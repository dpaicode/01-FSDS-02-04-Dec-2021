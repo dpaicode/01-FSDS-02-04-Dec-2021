{
 "cells": [
  {
   "cell_type": "code",
   "execution_count": 1,
   "id": "7868f6cd",
   "metadata": {},
   "outputs": [
    {
     "data": {
      "text/plain": [
       "2"
      ]
     },
     "execution_count": 1,
     "metadata": {},
     "output_type": "execute_result"
    }
   ],
   "source": [
    "1+1"
   ]
  },
  {
   "cell_type": "code",
   "execution_count": 2,
   "id": "9e84c291",
   "metadata": {},
   "outputs": [
    {
     "data": {
      "text/plain": [
       "'Dhyana'"
      ]
     },
     "execution_count": 2,
     "metadata": {},
     "output_type": "execute_result"
    }
   ],
   "source": [
    "\"Dhyana\""
   ]
  },
  {
   "cell_type": "code",
   "execution_count": 3,
   "id": "868bb706",
   "metadata": {},
   "outputs": [
    {
     "data": {
      "text/plain": [
       "'/home/dp/iNeuron/00-FSDS/notebooks'"
      ]
     },
     "execution_count": 3,
     "metadata": {},
     "output_type": "execute_result"
    }
   ],
   "source": [
    "pwd"
   ]
  },
  {
   "cell_type": "markdown",
   "id": "4fa07a79",
   "metadata": {},
   "source": [
    "# Bold"
   ]
  },
  {
   "cell_type": "code",
   "execution_count": 5,
   "id": "89c79621",
   "metadata": {},
   "outputs": [],
   "source": [
    "## Bold"
   ]
  },
  {
   "cell_type": "code",
   "execution_count": null,
   "id": "95b968a5",
   "metadata": {},
   "outputs": [],
   "source": []
  },
  {
   "cell_type": "code",
   "execution_count": null,
   "id": "e69bcfd3",
   "metadata": {},
   "outputs": [],
   "source": []
  },
  {
   "cell_type": "code",
   "execution_count": null,
   "id": "52f53de7",
   "metadata": {},
   "outputs": [],
   "source": []
  }
 ],
 "metadata": {
  "kernelspec": {
   "display_name": "Python 3 (ipykernel)",
   "language": "python",
   "name": "python3"
  },
  "language_info": {
   "codemirror_mode": {
    "name": "ipython",
    "version": 3
   },
   "file_extension": ".py",
   "mimetype": "text/x-python",
   "name": "python",
   "nbconvert_exporter": "python",
   "pygments_lexer": "ipython3",
   "version": "3.9.7"
  }
 },
 "nbformat": 4,
 "nbformat_minor": 5
}
